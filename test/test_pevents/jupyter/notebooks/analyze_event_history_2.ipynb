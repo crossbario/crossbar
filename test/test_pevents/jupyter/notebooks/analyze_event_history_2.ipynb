{
 "cells": [
  {
   "cell_type": "code",
   "execution_count": 1,
   "metadata": {},
   "outputs": [
    {
     "name": "stdout",
     "output_type": "stream",
     "text": [
      "Python 3.7.0 (default, Oct  7 2018, 13:03:13) \n",
      "[GCC 7.3.0]\n"
     ]
    }
   ],
   "source": [
    "import sys\n",
    "print('Python {}'.format(sys.version))"
   ]
  },
  {
   "cell_type": "code",
   "execution_count": 2,
   "metadata": {},
   "outputs": [
    {
     "name": "stdout",
     "output_type": "stream",
     "text": [
      "<zlmdb._database.Database object at 0x7f4104fef4a8>\n"
     ]
    }
   ],
   "source": [
    "# attach to crossbar event store\n",
    "import zlmdb\n",
    "from cfxdb.schema import Schema\n",
    "\n",
    "# when running notebook inside docker\n",
    "DBFILE = '../testdb'\n",
    "\n",
    "# when running notebook directly on host\n",
    "DBFILE = '../../crossbar/.testdb'\n",
    "\n",
    "db = zlmdb.Database(DBFILE, maxsize=2**30, readonly=True)\n",
    "\n",
    "schema = Schema.attach(db)\n",
    "\n",
    "print(db)"
   ]
  },
  {
   "cell_type": "code",
   "execution_count": 3,
   "metadata": {},
   "outputs": [
    {
     "name": "stdout",
     "output_type": "stream",
     "text": [
      "processed 10000 records ..\n",
      "processed 20000 records ..\n",
      "processed 30000 records ..\n",
      "processed 40000 records ..\n",
      "processed 50000 records ..\n",
      "finished: collected vectors of length 54329\n"
     ]
    }
   ],
   "source": [
    "vec_x = []\n",
    "vec_y = []\n",
    "vec_category = []\n",
    "vec_value2 = []\n",
    "\n",
    "map_categories = {'null': 0, 'alert': 1, 'warning': 2, 'info': 3, 'ad': 4, 'other': 5}\n",
    "\n",
    "with db.begin() as txn:\n",
    "    i = 0\n",
    "    # query event store and get geo events ..\n",
    "    for evt in schema.publications.select(txn, limit=1000000-1, return_keys=False):\n",
    "        if evt.topic.startswith('com.example.geoservice.'):\n",
    "            e = evt.args[0]\n",
    "            vec_x.append(e['x'])\n",
    "            vec_y.append(e['y'])\n",
    "            vec_category.append(map_categories.get(e['category'], 0))\n",
    "            vec_value2.append(e['value2'])\n",
    "        i += 1\n",
    "        if i % 10000 == 0:\n",
    "            print('processed {} records ..'.format(i))\n",
    "\n",
    "print('finished: collected vectors of length {}'.format(len(vec_x)))"
   ]
  },
  {
   "cell_type": "code",
   "execution_count": 4,
   "metadata": {},
   "outputs": [
    {
     "data": {
      "text/html": [
       "<div>\n",
       "<style scoped>\n",
       "    .dataframe tbody tr th:only-of-type {\n",
       "        vertical-align: middle;\n",
       "    }\n",
       "\n",
       "    .dataframe tbody tr th {\n",
       "        vertical-align: top;\n",
       "    }\n",
       "\n",
       "    .dataframe thead th {\n",
       "        text-align: right;\n",
       "    }\n",
       "</style>\n",
       "<table border=\"1\" class=\"dataframe\">\n",
       "  <thead>\n",
       "    <tr style=\"text-align: right;\">\n",
       "      <th></th>\n",
       "      <th>x</th>\n",
       "      <th>y</th>\n",
       "      <th>category</th>\n",
       "      <th>value2</th>\n",
       "    </tr>\n",
       "  </thead>\n",
       "  <tbody>\n",
       "    <tr>\n",
       "      <th>count</th>\n",
       "      <td>54329.000000</td>\n",
       "      <td>54329.000000</td>\n",
       "      <td>54329.000000</td>\n",
       "      <td>54329.000000</td>\n",
       "    </tr>\n",
       "    <tr>\n",
       "      <th>mean</th>\n",
       "      <td>50.030315</td>\n",
       "      <td>49.924442</td>\n",
       "      <td>3.004878</td>\n",
       "      <td>0.501813</td>\n",
       "    </tr>\n",
       "    <tr>\n",
       "      <th>std</th>\n",
       "      <td>29.215132</td>\n",
       "      <td>29.066145</td>\n",
       "      <td>1.416553</td>\n",
       "      <td>0.288219</td>\n",
       "    </tr>\n",
       "    <tr>\n",
       "      <th>min</th>\n",
       "      <td>0.000000</td>\n",
       "      <td>0.000000</td>\n",
       "      <td>1.000000</td>\n",
       "      <td>0.000008</td>\n",
       "    </tr>\n",
       "    <tr>\n",
       "      <th>25%</th>\n",
       "      <td>25.000000</td>\n",
       "      <td>25.000000</td>\n",
       "      <td>2.000000</td>\n",
       "      <td>0.251303</td>\n",
       "    </tr>\n",
       "    <tr>\n",
       "      <th>50%</th>\n",
       "      <td>50.000000</td>\n",
       "      <td>50.000000</td>\n",
       "      <td>3.000000</td>\n",
       "      <td>0.503480</td>\n",
       "    </tr>\n",
       "    <tr>\n",
       "      <th>75%</th>\n",
       "      <td>75.000000</td>\n",
       "      <td>75.000000</td>\n",
       "      <td>4.000000</td>\n",
       "      <td>0.752717</td>\n",
       "    </tr>\n",
       "    <tr>\n",
       "      <th>max</th>\n",
       "      <td>100.000000</td>\n",
       "      <td>100.000000</td>\n",
       "      <td>5.000000</td>\n",
       "      <td>0.999982</td>\n",
       "    </tr>\n",
       "  </tbody>\n",
       "</table>\n",
       "</div>"
      ],
      "text/plain": [
       "                  x             y      category        value2\n",
       "count  54329.000000  54329.000000  54329.000000  54329.000000\n",
       "mean      50.030315     49.924442      3.004878      0.501813\n",
       "std       29.215132     29.066145      1.416553      0.288219\n",
       "min        0.000000      0.000000      1.000000      0.000008\n",
       "25%       25.000000     25.000000      2.000000      0.251303\n",
       "50%       50.000000     50.000000      3.000000      0.503480\n",
       "75%       75.000000     75.000000      4.000000      0.752717\n",
       "max      100.000000    100.000000      5.000000      0.999982"
      ]
     },
     "execution_count": 4,
     "metadata": {},
     "output_type": "execute_result"
    }
   ],
   "source": [
    "import numpy as np\n",
    "import pandas as pd\n",
    "\n",
    "# create pandas dataframe from data collected in lists\n",
    "df = pd.DataFrame({\n",
    "    'x': np.asarray(vec_x, dtype='uint16'),\n",
    "    'y': np.asarray(vec_y, dtype='uint16'),\n",
    "    'category': np.asarray(vec_category, dtype='uint8'),\n",
    "    'value2': np.asarray(vec_value2, dtype='float32')\n",
    "})\n",
    "\n",
    "# compute some basic statistics\n",
    "df.describe()"
   ]
  },
  {
   "cell_type": "code",
   "execution_count": 5,
   "metadata": {},
   "outputs": [
    {
     "name": "stderr",
     "output_type": "stream",
     "text": [
      "/home/oberstet/cpy370_1/lib/python3.7/site-packages/scipy/stats/stats.py:1713: FutureWarning: Using a non-tuple sequence for multidimensional indexing is deprecated; use `arr[tuple(seq)]` instead of `arr[seq]`. In the future this will be interpreted as an array index, `arr[np.array(seq)]`, which will result either in an error or a different result.\n",
      "  return np.add.reduce(sorted[indexer] * weights, axis=axis) / sumval\n"
     ]
    },
    {
     "data": {
      "text/plain": [
       "<seaborn.axisgrid.JointGrid at 0x7f40bc0d9710>"
      ]
     },
     "execution_count": 5,
     "metadata": {},
     "output_type": "execute_result"
    },
    {
     "data": {
      "image/png": "[encoded data removed]",
      "text/plain": [
       "<Figure size 432x432 with 3 Axes>"
      ]
     },
     "metadata": {
      "needs_background": "light"
     },
     "output_type": "display_data"
    }
   ],
   "source": [
    "%matplotlib inline\n",
    "\n",
    "import seaborn as sns\n",
    "\n",
    "# scatterplot of the first 100 data points\n",
    "sns.jointplot(data=df[:100], x='x', y='y', kind='scatter', color='r')"
   ]
  },
  {
   "cell_type": "code",
   "execution_count": 6,
   "metadata": {},
   "outputs": [
    {
     "data": {
      "text/html": [
       "<div>\n",
       "<style scoped>\n",
       "    .dataframe tbody tr th:only-of-type {\n",
       "        vertical-align: middle;\n",
       "    }\n",
       "\n",
       "    .dataframe tbody tr th {\n",
       "        vertical-align: top;\n",
       "    }\n",
       "\n",
       "    .dataframe thead th {\n",
       "        text-align: right;\n",
       "    }\n",
       "</style>\n",
       "<table border=\"1\" class=\"dataframe\">\n",
       "  <thead>\n",
       "    <tr style=\"text-align: right;\">\n",
       "      <th>y</th>\n",
       "      <th>0</th>\n",
       "      <th>1</th>\n",
       "      <th>2</th>\n",
       "      <th>3</th>\n",
       "      <th>4</th>\n",
       "      <th>5</th>\n",
       "    </tr>\n",
       "    <tr>\n",
       "      <th>x</th>\n",
       "      <th></th>\n",
       "      <th></th>\n",
       "      <th></th>\n",
       "      <th></th>\n",
       "      <th></th>\n",
       "      <th></th>\n",
       "    </tr>\n",
       "  </thead>\n",
       "  <tbody>\n",
       "    <tr>\n",
       "      <th>0</th>\n",
       "      <td>0.501208</td>\n",
       "      <td>0.509216</td>\n",
       "      <td>0.513635</td>\n",
       "      <td>0.479069</td>\n",
       "      <td>0.500698</td>\n",
       "      <td>0.516006</td>\n",
       "    </tr>\n",
       "    <tr>\n",
       "      <th>1</th>\n",
       "      <td>0.505820</td>\n",
       "      <td>0.499166</td>\n",
       "      <td>0.511938</td>\n",
       "      <td>0.526053</td>\n",
       "      <td>0.512123</td>\n",
       "      <td>0.521450</td>\n",
       "    </tr>\n",
       "    <tr>\n",
       "      <th>2</th>\n",
       "      <td>0.499674</td>\n",
       "      <td>0.510251</td>\n",
       "      <td>0.497012</td>\n",
       "      <td>0.501565</td>\n",
       "      <td>0.483123</td>\n",
       "      <td>0.531975</td>\n",
       "    </tr>\n",
       "    <tr>\n",
       "      <th>3</th>\n",
       "      <td>0.500024</td>\n",
       "      <td>0.503853</td>\n",
       "      <td>0.502365</td>\n",
       "      <td>0.512313</td>\n",
       "      <td>0.496125</td>\n",
       "      <td>0.566534</td>\n",
       "    </tr>\n",
       "    <tr>\n",
       "      <th>4</th>\n",
       "      <td>0.495139</td>\n",
       "      <td>0.515034</td>\n",
       "      <td>0.494750</td>\n",
       "      <td>0.497092</td>\n",
       "      <td>0.504172</td>\n",
       "      <td>0.540792</td>\n",
       "    </tr>\n",
       "    <tr>\n",
       "      <th>5</th>\n",
       "      <td>0.572624</td>\n",
       "      <td>0.459266</td>\n",
       "      <td>0.479113</td>\n",
       "      <td>0.578355</td>\n",
       "      <td>0.523372</td>\n",
       "      <td>0.299809</td>\n",
       "    </tr>\n",
       "  </tbody>\n",
       "</table>\n",
       "</div>"
      ],
      "text/plain": [
       "y         0         1         2         3         4         5\n",
       "x                                                            \n",
       "0  0.501208  0.509216  0.513635  0.479069  0.500698  0.516006\n",
       "1  0.505820  0.499166  0.511938  0.526053  0.512123  0.521450\n",
       "2  0.499674  0.510251  0.497012  0.501565  0.483123  0.531975\n",
       "3  0.500024  0.503853  0.502365  0.512313  0.496125  0.566534\n",
       "4  0.495139  0.515034  0.494750  0.497092  0.504172  0.540792\n",
       "5  0.572624  0.459266  0.479113  0.578355  0.523372  0.299809"
      ]
     },
     "execution_count": 6,
     "metadata": {},
     "output_type": "execute_result"
    }
   ],
   "source": [
    "# compute truncated dataset\n",
    "import math\n",
    "\n",
    "def trunc(val):\n",
    "    return int(val / 20)\n",
    "\n",
    "df3 = pd.DataFrame({\n",
    "    'x': df['x'].apply(trunc),\n",
    "    'y': df['y'].apply(trunc),\n",
    "    'value': df['value2'],\n",
    "})\n",
    "\n",
    "# compute aggregate\n",
    "df4 = df3.pivot_table(index='x', columns='y', values='value', aggfunc=np.median)\n",
    "\n",
    "df4"
   ]
  },
  {
   "cell_type": "code",
   "execution_count": 7,
   "metadata": {},
   "outputs": [
    {
     "data": {
      "text/plain": [
       "<matplotlib.axes._subplots.AxesSubplot at 0x7f409af5b6d8>"
      ]
     },
     "execution_count": 7,
     "metadata": {},
     "output_type": "execute_result"
    },
    {
     "data": {
      "image/png": "[encoded data removed]",
      "text/plain": [
       "<Figure size 432x288 with 2 Axes>"
      ]
     },
     "metadata": {
      "needs_background": "light"
     },
     "output_type": "display_data"
    }
   ],
   "source": [
    "# plot heatmap of truncated/aggregated data\n",
    "sns.heatmap(df4, annot=True, fmt=\".3f\")"
   ]
  },
  {
   "cell_type": "code",
   "execution_count": null,
   "metadata": {},
   "outputs": [],
   "source": []
  }
 ],
 "metadata": {
  "kernelspec": {
   "display_name": "Python 3",
   "language": "python",
   "name": "python3"
  },
  "language_info": {
   "codemirror_mode": {
    "name": "ipython",
    "version": 3
   },
   "file_extension": ".py",
   "mimetype": "text/x-python",
   "name": "python",
   "nbconvert_exporter": "python",
   "pygments_lexer": "ipython3",
   "version": "3.5.3"
  }
 },
 "nbformat": 4,
 "nbformat_minor": 2
}
